{
 "cells": [
  {
   "cell_type": "code",
   "execution_count": 1,
   "id": "c46f53a8",
   "metadata": {},
   "outputs": [],
   "source": [
    "import torch\n",
    "from torchvision.models import resnet50 \n",
    "from torchvision import transforms\n",
    "import torch\n",
    "import cv2 \n",
    "from models.scene_extractor import scene_extractor\n",
    "from models.classifier import resnet50_model\n",
    "from dataloader.region_loader import region_generator\n",
    "from executer.inference import Inference\n",
    "from utils.namesDict import idx_classes \n",
    "from utils.visualizeImg import classes_on_img\n",
    "import numpy as np\n",
    "import matplotlib.pyplot as plt \n",
    "import time\n",
    "%matplotlib inline"
   ]
  },
  {
   "cell_type": "code",
   "execution_count": null,
   "id": "1b45f444",
   "metadata": {},
   "outputs": [],
   "source": [
    "\n"
   ]
  },
  {
   "cell_type": "code",
   "execution_count": 2,
   "id": "75f15a97",
   "metadata": {},
   "outputs": [],
   "source": [
    "path = \"/home/ahmed/Datasets/Hieroglyph/GlyphDataset/Dataset/Pictures/egyptianTexts3.jpg\"\n",
    "model_path= \"/home/ahmed/Datasets/Hieroglyph/classifier/weights/model.pth\"\n",
    "classes_path=\"configs/classes.json\"\n",
    "\n",
    "names= idx_classes(classes_path)"
   ]
  },
  {
   "cell_type": "code",
   "execution_count": 3,
   "id": "19923188",
   "metadata": {},
   "outputs": [
    {
     "name": "stderr",
     "output_type": "stream",
     "text": [
      "/home/ahmed/anaconda3/lib/python3.9/site-packages/torch/nn/functional.py:718: UserWarning: Named tensors and all their associated APIs are an experimental feature and subject to change. Please do not use them for anything important until they are released as stable. (Triggered internally at  /tmp/pip-req-build-4hw0h122/c10/core/TensorImpl.h:1156.)\n",
      "  return torch.max_pool2d(input, kernel_size, stride, padding, dilation, ceil_mode)\n"
     ]
    }
   ],
   "source": [
    "img= cv2.imread(path)\n",
    "regions= scene_extractor(path)\n",
    "ims_generator= region_generator(img,regions,64)\n",
    "model = resnet50_model(model_path)\n",
    "predic,regions= Inference(model,ims_generator)"
   ]
  },
  {
   "cell_type": "code",
   "execution_count": 30,
   "id": "05bda20c",
   "metadata": {},
   "outputs": [],
   "source": []
  },
  {
   "cell_type": "code",
   "execution_count": 31,
   "id": "1846f04c",
   "metadata": {},
   "outputs": [],
   "source": [
    "classes_on_img(img,predic,regions)"
   ]
  },
  {
   "cell_type": "code",
   "execution_count": null,
   "id": "8bcfe180",
   "metadata": {},
   "outputs": [],
   "source": []
  }
 ],
 "metadata": {
  "kernelspec": {
   "display_name": "Python 3 (ipykernel)",
   "language": "python",
   "name": "python3"
  },
  "language_info": {
   "codemirror_mode": {
    "name": "ipython",
    "version": 3
   },
   "file_extension": ".py",
   "mimetype": "text/x-python",
   "name": "python",
   "nbconvert_exporter": "python",
   "pygments_lexer": "ipython3",
   "version": "3.9.12"
  }
 },
 "nbformat": 4,
 "nbformat_minor": 5
}

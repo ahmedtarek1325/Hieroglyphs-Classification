{
 "cells": [
  {
   "cell_type": "markdown",
   "id": "3e774113",
   "metadata": {},
   "source": [
    "# Step1: Dataset Creation\n",
    "\n",
    "- Sorces : \n",
    "  1. https://www.delftstack.com/howto/python/opencv-bounding-box/\n",
    "  2. https://learnopencv.com/cropping-an-image-using-opencv/#:~:text=There%20is%20no%20specific%20function,And%20it's%20done!\n",
    "  3. https://stackoverflow.com/questions/26009861/how-can-i-access-the-ordering-of-contours-in-opencv\n",
    "  4. Grouping : https://stackoverflow.com/questions/64879673/how-to-split-python-list-into-lists-of-different-lengths"
   ]
  },
  {
   "cell_type": "code",
   "execution_count": 1,
   "id": "23281b8c",
   "metadata": {},
   "outputs": [
    {
     "name": "stdout",
     "output_type": "stream",
     "text": [
      "4.6.0\n"
     ]
    }
   ],
   "source": [
    "# http://opencv-python-tutroals.readthedocs.io/en/latest/py_tutorials/py_imgproc/py_houghcircles/py_houghcircles.html\n",
    "import cv2\n",
    "print(cv2.__version__)\n",
    "import numpy as np\n",
    "import warnings\n",
    "warnings.filterwarnings(\"ignore\")"
   ]
  },
  {
   "cell_type": "code",
   "execution_count": 2,
   "id": "09f42fdd",
   "metadata": {},
   "outputs": [],
   "source": [
    "# load the image\n",
    "img = cv2.imread('/home/user/Jupyter-Projects/3.Herogliphi_project/Material/GlyphDataset/Dataset/Pictures/egyptianTexts22.jpg')\n",
    "img = cv2.cvtColor(img, cv2.COLOR_BGR2RGB)\n"
   ]
  },
  {
   "cell_type": "code",
   "execution_count": 3,
   "id": "8934fa6a",
   "metadata": {},
   "outputs": [
    {
     "name": "stdout",
     "output_type": "stream",
     "text": [
      "Num of objects per each Line is :  [13, 30, 26, 26, 28, 24, 24, 28, 23, 31, 28, 31]\n",
      "Num of all objects detected :  312\n",
      "[[8, 603, 29, 165], [23, 898, 72, 77], [23, 463, 52, 41], [28, 621, 59, 66], [30, 830, 70, 64], [31, 217, 62, 69], [33, 1274, 49, 16], [33, 726, 52, 40], [34, 116, 36, 69], [35, 947, 71, 209], [39, 3, 48, 51], [47, 1309, 18, 76], [54, 512, 16, 81]]\n",
      "(1600, 1160, 3)\n"
     ]
    }
   ],
   "source": [
    "original = img.copy()\n",
    "\n",
    "gray = cv2.cvtColor(img, cv2.COLOR_BGR2GRAY)\n",
    "\n",
    "#image bluing\n",
    "#gray = cv2.blur(gray,(6,6))\n",
    "gray = cv2.GaussianBlur(gray, (7, 7), 0)\n",
    "\n",
    "\n",
    "thresh = cv2.threshold(gray, 0, 255, cv2.THRESH_BINARY_INV + cv2.THRESH_OTSU)[1]\n",
    "\n",
    "ROI_number = 0\n",
    "cnts = cv2.findContours(thresh, cv2.RETR_EXTERNAL, cv2.CHAIN_APPROX_SIMPLE)\n",
    "cnts = cnts[0] if len(cnts) == 2 else cnts[1]\n",
    "\n",
    "\n",
    "# Drawing boundary boxes around contours.\n",
    "ROI_number=0\n",
    "objectsProb_list=[]\n",
    "for c in cnts:\n",
    "    area = cv2.contourArea(c)\n",
    "    if area > 400 and area <3000:\n",
    "        x,y,w,h = cv2.boundingRect(c)\n",
    "        cv2.rectangle(img, (x, y), (x + w, y + h), None, 0)\n",
    "        #ROI = img[y:y+h, x:x+w]\n",
    "        #print(\"X : \",x,\"| Y : \",y)\n",
    "        objectsProb_list.append([x,y,w,h])\n",
    "#print(objectsProb_list)\n",
    "\n",
    "\n",
    "################################################################################################################\n",
    "\n",
    "\n",
    "# Sorting the objects by x coordinates.\n",
    "objectsProb_list.sort(key = lambda x: x[0])\n",
    "\n",
    "objNum_byEachLine=[]\n",
    "final_list=[]\n",
    "for d in range(0,12):\n",
    "    addition = 97 *d        # Number of pixels in each line of writings\n",
    "    for i in objectsProb_list:\n",
    "        if i[0] in range(addition,addition+97 ):\n",
    "            objNum_byEachLine.append(i)\n",
    "    final_list.append(len(objNum_byEachLine))\n",
    "    \n",
    "final_list = [final_list[i + 1] - final_list[i] for i in range(len(final_list)-1)]\n",
    "final_list.insert(0, 13)\n",
    "print(\"Num of objects per each Line is : \",final_list)\n",
    "print(\"Num of all objects detected : \" , sum(final_list))\n",
    "\n",
    "myNum = tuple(final_list)\n",
    "prev = 0\n",
    "newList = []\n",
    "for i in myNum:\n",
    "    newList.append((objectsProb_list[prev:prev+i]))\n",
    "    prev = prev+i \n",
    "\n",
    "print(newList[0])\n",
    "################################################################################################################\n",
    "print(img.shape)\n",
    "\n",
    "\n",
    "# Saving final symbol images.\n",
    "for obj in objectsProb_list:\n",
    "    ROI = img[y:y+h, x:x+w]\n",
    "    \n",
    "    # choose specific width and height\n",
    "    if (ROI.shape[0] <= 100)and (ROI.shape[1] <= 90):\n",
    "        \n",
    "        # Save final cropped symbols\n",
    "        #cv2.imwrite('./Generated_data/symbol{}.png'.format(ROI_number), ROI)\n",
    "        ROI_number += 1\n",
    "    \n",
    "\n",
    "\n",
    "img = cv2.resize(img, (960, 900))                # Resize image\n",
    "#cv2.imshow('image', img)\n",
    "#cv2.imshow('Thresh',thresh)\n",
    "cv2.waitKey()\n",
    "cv2.destroyAllWindows()"
   ]
  },
  {
   "cell_type": "code",
   "execution_count": 4,
   "id": "4ed45afe",
   "metadata": {},
   "outputs": [],
   "source": [
    "# expected number of x pixels for each line\n",
    "# 1160//12 == 96.7"
   ]
  },
  {
   "cell_type": "code",
   "execution_count": 5,
   "id": "1b63cf87",
   "metadata": {},
   "outputs": [
    {
     "data": {
      "text/plain": [
       "312"
      ]
     },
     "execution_count": 5,
     "metadata": {},
     "output_type": "execute_result"
    }
   ],
   "source": [
    "# real number of object near to this number (Num of contours)\n",
    "len(objectsProb_list)"
   ]
  }
 ],
 "metadata": {
  "kernelspec": {
   "display_name": "Python 3 (ipykernel)",
   "language": "python",
   "name": "python3"
  },
  "language_info": {
   "codemirror_mode": {
    "name": "ipython",
    "version": 3
   },
   "file_extension": ".py",
   "mimetype": "text/x-python",
   "name": "python",
   "nbconvert_exporter": "python",
   "pygments_lexer": "ipython3",
   "version": "3.9.12"
  }
 },
 "nbformat": 4,
 "nbformat_minor": 5
}
